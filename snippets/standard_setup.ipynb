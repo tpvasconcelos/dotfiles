{
 "cells": [
  {
   "cell_type": "code",
   "execution_count": null,
   "outputs": [],
   "source": [
    "def setup_logging():\n",
    "    import logging\n",
    "    import sys\n",
    "\n",
    "    level=logging.DEBUG\n",
    "\n",
    "    logger = logging.getLogger()\n",
    "    logger.setLevel(level=level)\n",
    "\n",
    "    # Remove any existing handlers\n",
    "    for h in logger.handlers:\n",
    "        logger.removeHandler(h)\n",
    "\n",
    "\n",
    "    # ==============================================================\n",
    "    # ---  Handle handlers (*badum tss*)\n",
    "    # ==============================================================\n",
    "\n",
    "    # Add new handlers\n",
    "    handler = logging.StreamHandler(stream=sys.stdout)\n",
    "    fmt = \"%(message)s\"\n",
    "    handler.setFormatter(fmt=logging.Formatter(fmt=fmt))\n",
    "    handler.setLevel(level=level)\n",
    "    logger.addHandler(handler)\n",
    "\n",
    "\n",
    "    # ==============================================================\n",
    "    # ---  Cleanup\n",
    "    # ==============================================================\n",
    "\n",
    "    suppressed_loggers = [\n",
    "        \"PIL\",\n",
    "        \"bcdocs\",\n",
    "        \"boto3\",\n",
    "        \"botocore\",\n",
    "        \"concurrent\",\n",
    "        \"dask\",\n",
    "        \"dotenv\",\n",
    "        \"featuretools\",\n",
    "        \"fsspec\",\n",
    "        \"graphviz\",\n",
    "        \"matplotlib\",\n",
    "        \"numba\",\n",
    "        \"parso\",\n",
    "        \"s3transfer\",\n",
    "        \"sklearn\",\n",
    "        \"sqlalchemy\",\n",
    "        \"tiqds\",\n",
    "        \"tornado\",\n",
    "        \"urllib3\",\n",
    "    ]\n",
    "\n",
    "    # Set the level of all other loggers to WARNING\n",
    "    for logger_name in suppressed_loggers:\n",
    "        logging.getLogger(name=logger_name).setLevel(level=logging.WARNING)\n",
    "\n",
    "    logger.debug(\"Logging setup!\")\n"
   ],
   "metadata": {
    "collapsed": false,
    "pycharm": {
     "name": "#%%\n"
    }
   }
  },
  {
   "cell_type": "code",
   "execution_count": null,
   "metadata": {
    "collapsed": true
   },
   "outputs": [],
   "source": [
    "# ==============================================================\n",
    "# ---  Load extensions\n",
    "# ==============================================================\n",
    "%load_ext blackcellmagic\n",
    "\n",
    "\n",
    "# ==============================================================\n",
    "# ---  Custom library settings\n",
    "# ==============================================================\n",
    "# Plotting settings\n",
    "import matplotlib.pyplot as plt\n",
    "import seaborn as sbn\n",
    "\n",
    "%config InlineBackend.figure_format = \"retina\"\n",
    "%matplotlib inline\n",
    "\n",
    "sbn.set()\n",
    "\n",
    "# NOTE: You might have to run this cell twice so\n",
    "#       that plt.rcParams is properly updated.\n",
    "plt.rcParams[\"figure.figsize\"] = (15, 10)\n",
    "\n",
    "# pandas settings\n",
    "import pandas as pd\n",
    "\n",
    "pd.set_option(\"display.max_rows\", 128)\n",
    "pd.set_option(\"display.max_columns\", 64)\n",
    "\n",
    "# warnings\n",
    "import warnings\n",
    "\n",
    "warnings.filterwarnings(\"ignore\", category=pd.io.pytables.PerformanceWarning)"
   ]
  }
 ],
 "metadata": {
  "kernelspec": {
   "display_name": "Python 3",
   "language": "python",
   "name": "python3"
  },
  "language_info": {
   "codemirror_mode": {
    "name": "ipython",
    "version": 2
   },
   "file_extension": ".py",
   "mimetype": "text/x-python",
   "name": "python",
   "nbconvert_exporter": "python",
   "pygments_lexer": "ipython2",
   "version": "2.7.6"
  }
 },
 "nbformat": 4,
 "nbformat_minor": 0
}